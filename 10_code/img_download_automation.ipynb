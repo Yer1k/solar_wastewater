{
 "cells": [
  {
   "cell_type": "code",
   "execution_count": 5,
   "metadata": {},
   "outputs": [],
   "source": [
    "import numpy as np\n",
    "import pandas as pd\n",
    "import overpy\n",
    "import geopandas as gpd\n",
    "import ee\n",
    "import requests\n",
    "from shapely.geometry import Polygon, box\n",
    "import os\n"
   ]
  },
  {
   "cell_type": "code",
   "execution_count": 6,
   "metadata": {},
   "outputs": [],
   "source": [
    "api = overpy.Overpass()\n",
    "\n",
    "# Fetch all wastewater treatment plants within California's boundary\n",
    "query = f\"\"\"\n",
    "    area[admin_level=4][\"name\"=\"California\"]->.searchArea;\n",
    "    (\n",
    "      way[\"man_made\"=\"wastewater_plant\"](area.searchArea);\n",
    "    );\n",
    "    (._;>;);\n",
    "    out body;\n",
    "    \"\"\"\n",
    "\n",
    "result = api.query(query)\n",
    "\n",
    "# Store results in desired format\n",
    "plants = {}\n",
    "\n",
    "for way in result.ways:\n",
    "    # Use the name of the plant or its ID if the name is not available\n",
    "    plant_name = way.tags.get(\"name\", f\"Plant_{way.id}\")\n",
    "\n",
    "    # Extract nodes lat and lon without id\n",
    "    nodes_coords = [(node.lon, node.lat) for node in way.nodes]\n",
    "\n",
    "    # get rid of \"Decimal\"  in the coordinates\n",
    "    nodes_coords = [tuple(map(float, i)) for i in nodes_coords]\n",
    "    \n",
    "    plants[plant_name] = nodes_coords\n"
   ]
  },
  {
   "cell_type": "code",
   "execution_count": 7,
   "metadata": {},
   "outputs": [
    {
     "name": "stdout",
     "output_type": "stream",
     "text": [
      "Plant_24298754 [(-121.8093956, 37.6930507), (-121.805817, 37.6930115), (-121.8056706, 37.6930099), (-121.8056706, 37.6904833), (-121.8058937, 37.6899807), (-121.8059778, 37.6894001), (-121.8060333, 37.6892735), (-121.8061508, 37.6892261), (-121.8071187, 37.6892498), (-121.8095244, 37.6896004), (-121.8096322, 37.6904367), (-121.809724, 37.6914042), (-121.8097223, 37.6915312), (-121.809522, 37.6915461), (-121.8093956, 37.6930507)]\n",
      "Plant_24396910 [(-121.7836023, 36.8042341), (-121.7836343, 36.8037659), (-121.7833675, 36.8022232), (-121.7828697, 36.7990947), (-121.782329, 36.7983538), (-121.7828526, 36.7974329), (-121.7828135, 36.7971656), (-121.7827041, 36.7968984), (-121.7821745, 36.7964432), (-121.7809986, 36.7959414), (-121.7799, 36.7950548), (-121.7790588, 36.795261), (-121.7784065, 36.796072), (-121.7771877, 36.7992885), (-121.7776512, 36.8002576), (-121.7762693, 36.800938), (-121.7764839, 36.8015634), (-121.7779087, 36.8024362), (-121.7778655, 36.8026007), (-121.7777709, 36.8029603), (-121.7803629, 36.8036308), (-121.7804406, 36.8034139), (-121.7834145, 36.8040794), (-121.7836023, 36.8042341)]\n",
      "EBMUD Wastewater Treatment Plant [(-122.2930951, 37.8228457), (-122.2923804, 37.8241395), (-122.2923464, 37.8241322), (-122.2922493, 37.8243101), (-122.2921713, 37.8246004), (-122.2921681, 37.8247452), (-122.2921969, 37.8251887), (-122.2920161, 37.8251593), (-122.2919721, 37.8254359), (-122.2919162, 37.8257025), (-122.2918483, 37.8260651), (-122.2916564, 37.826488), (-122.2917244, 37.8266896), (-122.2921959, 37.8269055), (-122.2925522, 37.8270548), (-122.2926746, 37.8270912), (-122.292804, 37.8271548), (-122.2928341, 37.82724), (-122.2932189, 37.8271637), (-122.293225, 37.8272237), (-122.2934566, 37.8272571), (-122.2937212, 37.8272765), (-122.2938809, 37.8272546), (-122.2941777, 37.8271973), (-122.2943274, 37.8271752), (-122.2953185, 37.8269706), (-122.2953333, 37.8269667), (-122.2953491, 37.8269619), (-122.2953661, 37.8269544), (-122.2953807, 37.8269469), (-122.2954638, 37.8269015), (-122.2954865, 37.8268899), (-122.2955094, 37.8268787), (-122.2955361, 37.8268672), (-122.2955631, 37.8268576), (-122.2962989, 37.8265886), (-122.2965904, 37.8264858), (-122.2965545, 37.82638), (-122.2998075, 37.8257411), (-122.2993529, 37.824345), (-122.2992255, 37.8243701), (-122.2991314, 37.8242353), (-122.2990068, 37.8241806), (-122.297951, 37.8238992), (-122.2979134, 37.8238716), (-122.2972145, 37.8236941), (-122.2971018, 37.8236812), (-122.2969923, 37.8236856), (-122.2963299, 37.8235239), (-122.2963198, 37.8234795), (-122.2958524, 37.8235457), (-122.2957816, 37.8233495), (-122.2953577, 37.8232469), (-122.2952498, 37.823242), (-122.2940298, 37.8229193), (-122.293803, 37.8228723), (-122.2935636, 37.8228464), (-122.2932976, 37.8228337), (-122.2930951, 37.8228457)]\n",
      "Hyperion Wastewater Treatment Plant [(-118.4291394, 33.9195675), (-118.4316212, 33.9243409), (-118.4316291, 33.9244394), (-118.4318223, 33.9248176), (-118.4318955, 33.9248806), (-118.4320683, 33.9252113), (-118.4331997, 33.9273807), (-118.4333514, 33.9277217), (-118.4338023, 33.9286692), (-118.4346593, 33.9305923), (-118.4346401, 33.9306382), (-118.4345877, 33.9306876), (-118.4336771, 33.9306842), (-118.4336073, 33.930663), (-118.4333101, 33.930663), (-118.4330891, 33.9306888), (-118.4303801, 33.9307092), (-118.4293615, 33.9307479), (-118.4292124, 33.9307543), (-118.4291923, 33.930736), (-118.428812, 33.9307527), (-118.4288264, 33.9305582), (-118.4288638, 33.9304391), (-118.4291342, 33.9299731), (-118.4289351, 33.929596), (-118.4290203, 33.92956), (-118.4287775, 33.9290448), (-118.4287527, 33.9278911), (-118.4281338, 33.9267324), (-118.4282118, 33.9265614), (-118.4283591, 33.9264964), (-118.427776, 33.9253916), (-118.4272291, 33.9240928), (-118.4272718, 33.9234815), (-118.4258198, 33.9206858), (-118.4259686, 33.9203748), (-118.4273031, 33.9201549), (-118.4275764, 33.9201234), (-118.4280335, 33.9199581), (-118.4291394, 33.9195675)]\n",
      "San José–Santa Clara Regional Wastewater Facility [(-121.9553885, 37.4306174), (-121.9545195, 37.4312543), (-121.9543317, 37.4313011), (-121.9541788, 37.431414), (-121.9542191, 37.4314694), (-121.9532454, 37.4321446), (-121.9458452, 37.4351902), (-121.9456441, 37.435301), (-121.9450754, 37.4355395), (-121.9442681, 37.4356148), (-121.9437531, 37.4356352), (-121.9432553, 37.435533), (-121.9427059, 37.4353353), (-121.9422081, 37.4349673), (-121.9418219, 37.434497), (-121.9416588, 37.4341017), (-121.9415043, 37.4331135), (-121.9408091, 37.4286969), (-121.9410837, 37.4287651), (-121.941573, 37.4287378), (-121.9418562, 37.4287174), (-121.9421824, 37.4286151), (-121.9425429, 37.4284925), (-121.9427918, 37.4283493), (-121.9476669, 37.428288), (-121.9496239, 37.4291877), (-121.9504049, 37.4295489), (-121.9507311, 37.4295966), (-121.9510229, 37.4295489), (-121.9511603, 37.4294467), (-121.9513319, 37.4293581), (-121.9516924, 37.4293785), (-121.9518695, 37.4294119), (-121.9519741, 37.4295077), (-121.9527734, 37.4307239), (-121.9545195, 37.4297058), (-121.9550707, 37.4302841), (-121.9553885, 37.4306174)]\n"
     ]
    }
   ],
   "source": [
    "# print the first 5 plants\n",
    "for key, value in list(plants.items())[:5]:\n",
    "    print(key, value)"
   ]
  },
  {
   "cell_type": "code",
   "execution_count": 8,
   "metadata": {},
   "outputs": [
    {
     "name": "stdout",
     "output_type": "stream",
     "text": [
      "Number of official plants: 214\n"
     ]
    }
   ],
   "source": [
    "plants_with_official_name = {key: value for key, value in plants.items() if not key.startswith(\"Plant_\")}\n",
    "print(f\"Number of official plants: {len(plants_with_official_name)}\")"
   ]
  },
  {
   "cell_type": "code",
   "execution_count": 9,
   "metadata": {},
   "outputs": [
    {
     "data": {
      "text/html": [
       "<div>\n",
       "<style scoped>\n",
       "    .dataframe tbody tr th:only-of-type {\n",
       "        vertical-align: middle;\n",
       "    }\n",
       "\n",
       "    .dataframe tbody tr th {\n",
       "        vertical-align: top;\n",
       "    }\n",
       "\n",
       "    .dataframe thead th {\n",
       "        text-align: right;\n",
       "    }\n",
       "</style>\n",
       "<table border=\"1\" class=\"dataframe\">\n",
       "  <thead>\n",
       "    <tr style=\"text-align: right;\">\n",
       "      <th></th>\n",
       "      <th>WWTP_name</th>\n",
       "      <th>geometry</th>\n",
       "    </tr>\n",
       "  </thead>\n",
       "  <tbody>\n",
       "    <tr>\n",
       "      <th>0</th>\n",
       "      <td>Plant_24298754</td>\n",
       "      <td>POLYGON ((-121.80940 37.69305, -121.80582 37.6...</td>\n",
       "    </tr>\n",
       "    <tr>\n",
       "      <th>1</th>\n",
       "      <td>Plant_24396910</td>\n",
       "      <td>POLYGON ((-121.78360 36.80423, -121.78363 36.8...</td>\n",
       "    </tr>\n",
       "    <tr>\n",
       "      <th>2</th>\n",
       "      <td>EBMUD Wastewater Treatment Plant</td>\n",
       "      <td>POLYGON ((-122.29310 37.82285, -122.29238 37.8...</td>\n",
       "    </tr>\n",
       "    <tr>\n",
       "      <th>3</th>\n",
       "      <td>Hyperion Wastewater Treatment Plant</td>\n",
       "      <td>POLYGON ((-118.42914 33.91957, -118.43162 33.9...</td>\n",
       "    </tr>\n",
       "    <tr>\n",
       "      <th>4</th>\n",
       "      <td>San José–Santa Clara Regional Wastewater Facility</td>\n",
       "      <td>POLYGON ((-121.95539 37.43062, -121.95452 37.4...</td>\n",
       "    </tr>\n",
       "    <tr>\n",
       "      <th>...</th>\n",
       "      <td>...</td>\n",
       "      <td>...</td>\n",
       "    </tr>\n",
       "    <tr>\n",
       "      <th>3099</th>\n",
       "      <td>Plant_1180546479</td>\n",
       "      <td>POLYGON ((-122.36238 38.39425, -122.36120 38.3...</td>\n",
       "    </tr>\n",
       "    <tr>\n",
       "      <th>3100</th>\n",
       "      <td>Plant_1186073992</td>\n",
       "      <td>POLYGON ((-117.27039 34.25523, -117.27203 34.2...</td>\n",
       "    </tr>\n",
       "    <tr>\n",
       "      <th>3101</th>\n",
       "      <td>Plant_1188491467</td>\n",
       "      <td>POLYGON ((-121.52373 38.56623, -121.52238 38.5...</td>\n",
       "    </tr>\n",
       "    <tr>\n",
       "      <th>3102</th>\n",
       "      <td>Plant_1201733978</td>\n",
       "      <td>POLYGON ((-118.94698 37.64148, -118.94744 37.6...</td>\n",
       "    </tr>\n",
       "    <tr>\n",
       "      <th>3103</th>\n",
       "      <td>Plant_1205552620</td>\n",
       "      <td>POLYGON ((-121.96382 38.68125, -121.96450 38.6...</td>\n",
       "    </tr>\n",
       "  </tbody>\n",
       "</table>\n",
       "<p>3104 rows × 2 columns</p>\n",
       "</div>"
      ],
      "text/plain": [
       "                                              WWTP_name  \\\n",
       "0                                        Plant_24298754   \n",
       "1                                        Plant_24396910   \n",
       "2                      EBMUD Wastewater Treatment Plant   \n",
       "3                   Hyperion Wastewater Treatment Plant   \n",
       "4     San José–Santa Clara Regional Wastewater Facility   \n",
       "...                                                 ...   \n",
       "3099                                   Plant_1180546479   \n",
       "3100                                   Plant_1186073992   \n",
       "3101                                   Plant_1188491467   \n",
       "3102                                   Plant_1201733978   \n",
       "3103                                   Plant_1205552620   \n",
       "\n",
       "                                               geometry  \n",
       "0     POLYGON ((-121.80940 37.69305, -121.80582 37.6...  \n",
       "1     POLYGON ((-121.78360 36.80423, -121.78363 36.8...  \n",
       "2     POLYGON ((-122.29310 37.82285, -122.29238 37.8...  \n",
       "3     POLYGON ((-118.42914 33.91957, -118.43162 33.9...  \n",
       "4     POLYGON ((-121.95539 37.43062, -121.95452 37.4...  \n",
       "...                                                 ...  \n",
       "3099  POLYGON ((-122.36238 38.39425, -122.36120 38.3...  \n",
       "3100  POLYGON ((-117.27039 34.25523, -117.27203 34.2...  \n",
       "3101  POLYGON ((-121.52373 38.56623, -121.52238 38.5...  \n",
       "3102  POLYGON ((-118.94698 37.64148, -118.94744 37.6...  \n",
       "3103  POLYGON ((-121.96382 38.68125, -121.96450 38.6...  \n",
       "\n",
       "[3104 rows x 2 columns]"
      ]
     },
     "execution_count": 9,
     "metadata": {},
     "output_type": "execute_result"
    }
   ],
   "source": [
    "geoms = [Polygon(plants[key]) for key in plants]\n",
    "df = gpd.GeoDataFrame({'WWTP_name': list(plants.keys()), 'geometry': geoms}, crs=\"EPSG:4326\")\n",
    "df"
   ]
  },
  {
   "cell_type": "code",
   "execution_count": 10,
   "metadata": {},
   "outputs": [
    {
     "data": {
      "text/html": [
       "<div>\n",
       "<style scoped>\n",
       "    .dataframe tbody tr th:only-of-type {\n",
       "        vertical-align: middle;\n",
       "    }\n",
       "\n",
       "    .dataframe tbody tr th {\n",
       "        vertical-align: top;\n",
       "    }\n",
       "\n",
       "    .dataframe thead th {\n",
       "        text-align: right;\n",
       "    }\n",
       "</style>\n",
       "<table border=\"1\" class=\"dataframe\">\n",
       "  <thead>\n",
       "    <tr style=\"text-align: right;\">\n",
       "      <th></th>\n",
       "      <th>WWTP_name</th>\n",
       "      <th>geometry</th>\n",
       "    </tr>\n",
       "  </thead>\n",
       "  <tbody>\n",
       "    <tr>\n",
       "      <th>0</th>\n",
       "      <td>EBMUD Wastewater Treatment Plant</td>\n",
       "      <td>POLYGON ((-122.29310 37.82285, -122.29238 37.8...</td>\n",
       "    </tr>\n",
       "    <tr>\n",
       "      <th>1</th>\n",
       "      <td>Hyperion Wastewater Treatment Plant</td>\n",
       "      <td>POLYGON ((-118.42914 33.91957, -118.43162 33.9...</td>\n",
       "    </tr>\n",
       "    <tr>\n",
       "      <th>2</th>\n",
       "      <td>San José–Santa Clara Regional Wastewater Facility</td>\n",
       "      <td>POLYGON ((-121.95539 37.43062, -121.95452 37.4...</td>\n",
       "    </tr>\n",
       "    <tr>\n",
       "      <th>3</th>\n",
       "      <td>Sunnyvale Water Pollution Control Plant</td>\n",
       "      <td>POLYGON ((-122.01815 37.41911, -122.01795 37.4...</td>\n",
       "    </tr>\n",
       "    <tr>\n",
       "      <th>4</th>\n",
       "      <td>Burlingame Wastewater Treatment Plant</td>\n",
       "      <td>POLYGON ((-122.35803 37.59173, -122.35745 37.5...</td>\n",
       "    </tr>\n",
       "    <tr>\n",
       "      <th>...</th>\n",
       "      <td>...</td>\n",
       "      <td>...</td>\n",
       "    </tr>\n",
       "    <tr>\n",
       "      <th>209</th>\n",
       "      <td>County Club Wastewater Treatment Plant</td>\n",
       "      <td>POLYGON ((-120.63039 35.21489, -120.63032 35.2...</td>\n",
       "    </tr>\n",
       "    <tr>\n",
       "      <th>210</th>\n",
       "      <td>Riverside Water Quality Control Plant</td>\n",
       "      <td>POLYGON ((-117.46432 33.96161, -117.46434 33.9...</td>\n",
       "    </tr>\n",
       "    <tr>\n",
       "      <th>211</th>\n",
       "      <td>West County Wastewater - Water Quality &amp; Resou...</td>\n",
       "      <td>POLYGON ((-122.38026 37.96765, -122.38023 37.9...</td>\n",
       "    </tr>\n",
       "    <tr>\n",
       "      <th>212</th>\n",
       "      <td>Jackson Rancheria Casino Resort Waste Water Plant</td>\n",
       "      <td>POLYGON ((-120.73121 38.38433, -120.73104 38.3...</td>\n",
       "    </tr>\n",
       "    <tr>\n",
       "      <th>213</th>\n",
       "      <td>EBMUD Bayside Groundwater Treatment Facility</td>\n",
       "      <td>POLYGON ((-122.15722 37.66952, -122.15694 37.6...</td>\n",
       "    </tr>\n",
       "  </tbody>\n",
       "</table>\n",
       "<p>214 rows × 2 columns</p>\n",
       "</div>"
      ],
      "text/plain": [
       "                                             WWTP_name  \\\n",
       "0                     EBMUD Wastewater Treatment Plant   \n",
       "1                  Hyperion Wastewater Treatment Plant   \n",
       "2    San José–Santa Clara Regional Wastewater Facility   \n",
       "3              Sunnyvale Water Pollution Control Plant   \n",
       "4                Burlingame Wastewater Treatment Plant   \n",
       "..                                                 ...   \n",
       "209             County Club Wastewater Treatment Plant   \n",
       "210              Riverside Water Quality Control Plant   \n",
       "211  West County Wastewater - Water Quality & Resou...   \n",
       "212  Jackson Rancheria Casino Resort Waste Water Plant   \n",
       "213       EBMUD Bayside Groundwater Treatment Facility   \n",
       "\n",
       "                                              geometry  \n",
       "0    POLYGON ((-122.29310 37.82285, -122.29238 37.8...  \n",
       "1    POLYGON ((-118.42914 33.91957, -118.43162 33.9...  \n",
       "2    POLYGON ((-121.95539 37.43062, -121.95452 37.4...  \n",
       "3    POLYGON ((-122.01815 37.41911, -122.01795 37.4...  \n",
       "4    POLYGON ((-122.35803 37.59173, -122.35745 37.5...  \n",
       "..                                                 ...  \n",
       "209  POLYGON ((-120.63039 35.21489, -120.63032 35.2...  \n",
       "210  POLYGON ((-117.46432 33.96161, -117.46434 33.9...  \n",
       "211  POLYGON ((-122.38026 37.96765, -122.38023 37.9...  \n",
       "212  POLYGON ((-120.73121 38.38433, -120.73104 38.3...  \n",
       "213  POLYGON ((-122.15722 37.66952, -122.15694 37.6...  \n",
       "\n",
       "[214 rows x 2 columns]"
      ]
     },
     "execution_count": 10,
     "metadata": {},
     "output_type": "execute_result"
    }
   ],
   "source": [
    "geoms_official_name = [Polygon(plants_with_official_name[key]) for key in plants_with_official_name]\n",
    "df_official_name = gpd.GeoDataFrame({'WWTP_name': list(plants_with_official_name.keys()), 'geometry': geoms_official_name}, crs=\"EPSG:4326\")\n",
    "df_official_name"
   ]
  },
  {
   "cell_type": "markdown",
   "metadata": {},
   "source": [
    "How to authenticate: https://developers.google.com/earth-engine/guides/python_install#authentication"
   ]
  },
  {
   "cell_type": "code",
   "execution_count": 11,
   "metadata": {},
   "outputs": [
    {
     "data": {
      "text/html": [
       "<p>To authorize access needed by Earth Engine, open the following\n",
       "        URL in a web browser and follow the instructions:</p>\n",
       "        <p><a href=https://code.earthengine.google.com/client-auth?scopes=https%3A//www.googleapis.com/auth/earthengine%20https%3A//www.googleapis.com/auth/devstorage.full_control&request_id=OjxKNSkaIKTUlRa2p1Lxp9ukQVYiDP5UQB_gKp8wt8Q&tc=rCGy64O7M7Ee_cXXJWD9RxqMivO7lexWi1DDT64s0NQ&cc=FEagjwJEUoQLaxvEYZGqbPWr7jvYb7FzvSV2y8nUwjs>https://code.earthengine.google.com/client-auth?scopes=https%3A//www.googleapis.com/auth/earthengine%20https%3A//www.googleapis.com/auth/devstorage.full_control&request_id=OjxKNSkaIKTUlRa2p1Lxp9ukQVYiDP5UQB_gKp8wt8Q&tc=rCGy64O7M7Ee_cXXJWD9RxqMivO7lexWi1DDT64s0NQ&cc=FEagjwJEUoQLaxvEYZGqbPWr7jvYb7FzvSV2y8nUwjs</a></p>\n",
       "        <p>The authorization workflow will generate a code, which you should paste in the box below.</p>\n",
       "        "
      ],
      "text/plain": [
       "<IPython.core.display.HTML object>"
      ]
     },
     "metadata": {},
     "output_type": "display_data"
    },
    {
     "name": "stdout",
     "output_type": "stream",
     "text": [
      "\n",
      "Successfully saved authorization token.\n"
     ]
    }
   ],
   "source": [
    "ee.Authenticate()"
   ]
  },
  {
   "cell_type": "code",
   "execution_count": 12,
   "metadata": {},
   "outputs": [],
   "source": [
    "ee.Initialize()"
   ]
  },
  {
   "cell_type": "code",
   "execution_count": 13,
   "metadata": {},
   "outputs": [
    {
     "data": {
      "text/html": [
       "<div>\n",
       "<style scoped>\n",
       "    .dataframe tbody tr th:only-of-type {\n",
       "        vertical-align: middle;\n",
       "    }\n",
       "\n",
       "    .dataframe tbody tr th {\n",
       "        vertical-align: top;\n",
       "    }\n",
       "\n",
       "    .dataframe thead th {\n",
       "        text-align: right;\n",
       "    }\n",
       "</style>\n",
       "<table border=\"1\" class=\"dataframe\">\n",
       "  <thead>\n",
       "    <tr style=\"text-align: right;\">\n",
       "      <th></th>\n",
       "      <th>minx</th>\n",
       "      <th>miny</th>\n",
       "      <th>maxx</th>\n",
       "      <th>maxy</th>\n",
       "    </tr>\n",
       "  </thead>\n",
       "  <tbody>\n",
       "    <tr>\n",
       "      <th>0</th>\n",
       "      <td>-121.809724</td>\n",
       "      <td>37.689226</td>\n",
       "      <td>-121.805671</td>\n",
       "      <td>37.693051</td>\n",
       "    </tr>\n",
       "    <tr>\n",
       "      <th>1</th>\n",
       "      <td>-121.783634</td>\n",
       "      <td>36.795055</td>\n",
       "      <td>-121.776269</td>\n",
       "      <td>36.804234</td>\n",
       "    </tr>\n",
       "    <tr>\n",
       "      <th>2</th>\n",
       "      <td>-122.299808</td>\n",
       "      <td>37.822834</td>\n",
       "      <td>-122.291656</td>\n",
       "      <td>37.827277</td>\n",
       "    </tr>\n",
       "    <tr>\n",
       "      <th>3</th>\n",
       "      <td>-118.434659</td>\n",
       "      <td>33.919567</td>\n",
       "      <td>-118.425820</td>\n",
       "      <td>33.930754</td>\n",
       "    </tr>\n",
       "    <tr>\n",
       "      <th>4</th>\n",
       "      <td>-121.955388</td>\n",
       "      <td>37.428288</td>\n",
       "      <td>-121.940809</td>\n",
       "      <td>37.435635</td>\n",
       "    </tr>\n",
       "    <tr>\n",
       "      <th>...</th>\n",
       "      <td>...</td>\n",
       "      <td>...</td>\n",
       "      <td>...</td>\n",
       "      <td>...</td>\n",
       "    </tr>\n",
       "    <tr>\n",
       "      <th>3099</th>\n",
       "      <td>-122.362376</td>\n",
       "      <td>38.392237</td>\n",
       "      <td>-122.358658</td>\n",
       "      <td>38.394806</td>\n",
       "    </tr>\n",
       "    <tr>\n",
       "      <th>3100</th>\n",
       "      <td>-117.272211</td>\n",
       "      <td>34.253109</td>\n",
       "      <td>-117.269860</td>\n",
       "      <td>34.255232</td>\n",
       "    </tr>\n",
       "    <tr>\n",
       "      <th>3101</th>\n",
       "      <td>-121.523730</td>\n",
       "      <td>38.561855</td>\n",
       "      <td>-121.521200</td>\n",
       "      <td>38.566228</td>\n",
       "    </tr>\n",
       "    <tr>\n",
       "      <th>3102</th>\n",
       "      <td>-118.947438</td>\n",
       "      <td>37.637012</td>\n",
       "      <td>-118.942315</td>\n",
       "      <td>37.642072</td>\n",
       "    </tr>\n",
       "    <tr>\n",
       "      <th>3103</th>\n",
       "      <td>-121.964497</td>\n",
       "      <td>38.678236</td>\n",
       "      <td>-121.961699</td>\n",
       "      <td>38.681255</td>\n",
       "    </tr>\n",
       "  </tbody>\n",
       "</table>\n",
       "<p>3104 rows × 4 columns</p>\n",
       "</div>"
      ],
      "text/plain": [
       "            minx       miny        maxx       maxy\n",
       "0    -121.809724  37.689226 -121.805671  37.693051\n",
       "1    -121.783634  36.795055 -121.776269  36.804234\n",
       "2    -122.299808  37.822834 -122.291656  37.827277\n",
       "3    -118.434659  33.919567 -118.425820  33.930754\n",
       "4    -121.955388  37.428288 -121.940809  37.435635\n",
       "...          ...        ...         ...        ...\n",
       "3099 -122.362376  38.392237 -122.358658  38.394806\n",
       "3100 -117.272211  34.253109 -117.269860  34.255232\n",
       "3101 -121.523730  38.561855 -121.521200  38.566228\n",
       "3102 -118.947438  37.637012 -118.942315  37.642072\n",
       "3103 -121.964497  38.678236 -121.961699  38.681255\n",
       "\n",
       "[3104 rows x 4 columns]"
      ]
     },
     "execution_count": 13,
     "metadata": {},
     "output_type": "execute_result"
    }
   ],
   "source": [
    "df['geometry'].bounds"
   ]
  },
  {
   "cell_type": "markdown",
   "metadata": {},
   "source": [
    "NAIP dataset in Googel Earth Engine: https://developers.google.com/earth-engine/datasets/catalog/USDA_NAIP_DOQQ\n",
    "\n",
    "ee.Geometry.Rectangle: https://github.com/gee-community/example-scripts/blob/master/Geometries/ee.Geometry.Rectangle.md"
   ]
  },
  {
   "cell_type": "code",
   "execution_count": 54,
   "metadata": {},
   "outputs": [],
   "source": [
    "df_not_download = df.copy() # keep track of which plants have NOT been downloaded"
   ]
  },
  {
   "cell_type": "code",
   "execution_count": 39,
   "metadata": {},
   "outputs": [],
   "source": [
    "# read in csv file that contains the names of the plants that have NOT been downloaded\n",
    "# df_download = pd.read_csv(\"../30_result/trouble_download.csv\")"
   ]
  },
  {
   "cell_type": "code",
   "execution_count": 55,
   "metadata": {},
   "outputs": [
    {
     "name": "stdout",
     "output_type": "stream",
     "text": [
      "Download URL for Plant_24298754: https://earthengine.googleapis.com/v1/projects/earthengine-legacy/thumbnails/5c9850caecfa35464250f62ebe863980-397f059faa525ccab7be6ea0d309164c:getPixels\n",
      "Downloaded image for Plant_24298754.\n",
      "Download URL for Plant_24396910: https://earthengine.googleapis.com/v1/projects/earthengine-legacy/thumbnails/597c2cf26b4e2a48f3a4de2de1296a19-07cd1dbdad83004d523af5314f22b558:getPixels\n",
      "Downloaded image for Plant_24396910.\n",
      "Download URL for EBMUD Wastewater Treatment Plant: https://earthengine.googleapis.com/v1/projects/earthengine-legacy/thumbnails/20e170ef8e7186b360115adfe6bcfe29-73209e117a2284ae81a26f726ac1ccbd:getPixels\n",
      "Downloaded image for EBMUD Wastewater Treatment Plant.\n",
      "Download URL for Hyperion Wastewater Treatment Plant: https://earthengine.googleapis.com/v1/projects/earthengine-legacy/thumbnails/304c0246b277e7cda36996b00ce10313-154846c311c0127b503a576126eee013:getPixels\n",
      "Downloaded image for Hyperion Wastewater Treatment Plant.\n",
      "Download URL for San José–Santa Clara Regional Wastewater Facility: https://earthengine.googleapis.com/v1/projects/earthengine-legacy/thumbnails/71ed943d5acc6f50e8cfb890b7183445-69130cf97a23cd872bf25c69e7f8eea8:getPixels\n",
      "Downloaded image for San José–Santa Clara Regional Wastewater Facility.\n",
      "Download URL for Sunnyvale Water Pollution Control Plant: https://earthengine.googleapis.com/v1/projects/earthengine-legacy/thumbnails/ea048099db83dc333ee1dc0af81c56d9-ad222756fde2de61ffdb9256acdf16fb:getPixels\n",
      "Downloaded image for Sunnyvale Water Pollution Control Plant.\n"
     ]
    }
   ],
   "source": [
    "# Create a directory to save images\n",
    "download_directory = \"../30_result/downloaded_images/\"\n",
    "if not os.path.exists(download_directory):\n",
    "    os.mkdir(download_directory)\n",
    "    \n",
    "# Iterate over each wastewater treatment plant and fetch its image\n",
    "for idx, row in df_not_download.iterrows():\n",
    "    # 1. Get the bounding box for the current wastewater treatment plant\n",
    "    bbox = row.geometry.bounds\n",
    "    \n",
    "    # 2. Determine the length and height of the WWTP and double them\n",
    "    length = 2 * (bbox[2] - bbox[0])\n",
    "    height = 2 * (bbox[3] - bbox[1])\n",
    "    center_x = (bbox[0] + bbox[2]) / 2\n",
    "    center_y = (bbox[1] + bbox[3]) / 2\n",
    "    \n",
    "    # Define the region of interest using the center and transformed dimensions\n",
    "    roi = ee.Geometry.Rectangle([center_x - length / 2.5, \\\n",
    "                                center_y - height / 2.5, \\\n",
    "                                center_x + length / 2.5, \\\n",
    "                                center_y + height / 2.5])\n",
    "    collection = ee.ImageCollection('USDA/NAIP/DOQQ') \\\n",
    "        .filterBounds(roi) \\\n",
    "        .filterDate(ee.Date('2020-01-01'), ee.Date('2023-01-01')) \n",
    "    \n",
    "    # Get the first image from the collection\n",
    "    image = collection.first().clip(roi)\n",
    "    \n",
    "    # Generate a thumbnail URL for the visualization\n",
    "    try:\n",
    "        url = image.getThumbURL({\n",
    "            'bands': ['R', 'G', 'B'],\n",
    "            'region': roi,\n",
    "            'format': 'png',  # or 'jpeg'\n",
    "            'max': 255,\n",
    "            'min': 0\n",
    "        })\n",
    "    \n",
    "        print(f\"Download URL for {row['WWTP_name']}: {url}\")\n",
    "    \n",
    "    except Exception as e:\n",
    "        print(f\"Failed to get image for {row['WWTP_name']}. Error: {e}\")\n",
    "        continue\n",
    "\n",
    "    # Download the image\n",
    "    try:\n",
    "        response = requests.get(url)\n",
    "    except Exception as e:\n",
    "        # if response.status_code != 200:\n",
    "        print(f\"Failed to download image for {row['WWTP_name']}. Received status code: {response.status_code}\")\n",
    "        continue\n",
    "\n",
    "    try:\n",
    "        if 'image' in response.headers['Content-Type']:\n",
    "            with open(os.path.join(download_directory, f\"{row['WWTP_name']}.jpg\"), 'wb') as file:  # Changing extension to jpg\n",
    "                file.write(response.content)\n",
    "            print(f\"Downloaded image for {row['WWTP_name']}.\")\n",
    "            # delete the row in the dataframe\n",
    "            df_not_download.drop(idx, inplace=True)\n",
    "        else:\n",
    "            print(f\"Failed to download image for {row['WWTP_name']}. Received content: {response.text}\")\n",
    "    except Exception as e:\n",
    "        print(f\"Failed to download image for {row['WWTP_name']}. Error: {e}\")\n",
    "        continue\n",
    "\n",
    "    # Export to Google Drive\n",
    "    # task = ee.batch.Export.image.toDrive(\n",
    "    #     image=image,\n",
    "    #     description=row['WWTP_name'],\n",
    "    #     folder=\"EE_images\",\n",
    "    #     fileNamePrefix=row['WWTP_name'] + \"_image\",\n",
    "    #     region=roi.getInfo()[\"coordinates\"],\n",
    "    #     scale=1,  # You can adjust the scale (resolution) as needed\n",
    "    #     fileFormat=\"GeoTIFF\",\n",
    "    #     maxPixels=1e13\n",
    "    # )\n",
    "    # task.start()\n",
    "\n",
    "    # if idx == 19:\n",
    "    #     break"
   ]
  },
  {
   "cell_type": "code",
   "execution_count": 37,
   "metadata": {},
   "outputs": [
    {
     "data": {
      "text/plain": [
       "(1828, 2)"
      ]
     },
     "execution_count": 37,
     "metadata": {},
     "output_type": "execute_result"
    }
   ],
   "source": [
    "df_not_download.shape"
   ]
  },
  {
   "cell_type": "code",
   "execution_count": 22,
   "metadata": {},
   "outputs": [
    {
     "data": {
      "text/plain": [
       "(3104, 2)"
      ]
     },
     "execution_count": 22,
     "metadata": {},
     "output_type": "execute_result"
    }
   ],
   "source": [
    "df.shape"
   ]
  },
  {
   "cell_type": "code",
   "execution_count": 38,
   "metadata": {},
   "outputs": [],
   "source": [
    "df_not_download.to_csv(\"../30_result/trouble_download.csv\", index=False)"
   ]
  }
 ],
 "metadata": {
  "kernelspec": {
   "display_name": "Python 3",
   "language": "python",
   "name": "python3"
  },
  "language_info": {
   "codemirror_mode": {
    "name": "ipython",
    "version": 3
   },
   "file_extension": ".py",
   "mimetype": "text/x-python",
   "name": "python",
   "nbconvert_exporter": "python",
   "pygments_lexer": "ipython3",
   "version": "3.11.5"
  },
  "orig_nbformat": 4
 },
 "nbformat": 4,
 "nbformat_minor": 2
}
