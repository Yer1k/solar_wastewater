{
 "cells": [
  {
   "cell_type": "code",
   "execution_count": 1,
   "metadata": {},
   "outputs": [],
   "source": [
    "import pandas as pd\n",
    "import os"
   ]
  },
  {
   "cell_type": "code",
   "execution_count": 9,
   "metadata": {},
   "outputs": [],
   "source": [
    "path = \"/Users/yer1k/Library/CloudStorage/GoogleDrive-iamtsubasaozora@gmail.com/My Drive/Capstone Project/Data/tif_bounding_box/\""
   ]
  },
  {
   "cell_type": "code",
   "execution_count": 11,
   "metadata": {},
   "outputs": [],
   "source": [
    "# write a df from files' names without extension\n",
    "name_lst = [\"Dingkun\", \"Pooja\", \"Sukhpreet\", \"Yuanjing\"]\n",
    "texas = \"/Texas\"\n",
    "for name in name_lst:\n",
    "    df = pd.DataFrame()\n",
    "    df['filename'] = [f.split('.')[0] for f in os.listdir(path + name + texas)]\n",
    "    df = df.drop_duplicates()\n",
    "    df.reset_index(drop=True, inplace=True)\n",
    "    df.to_csv(f'{name}_Texas_image_filenames.csv', index=False)\n"
   ]
  }
 ],
 "metadata": {
  "kernelspec": {
   "display_name": "base",
   "language": "python",
   "name": "python3"
  },
  "language_info": {
   "codemirror_mode": {
    "name": "ipython",
    "version": 3
   },
   "file_extension": ".py",
   "mimetype": "text/x-python",
   "name": "python",
   "nbconvert_exporter": "python",
   "pygments_lexer": "ipython3",
   "version": "3.11.5"
  }
 },
 "nbformat": 4,
 "nbformat_minor": 2
}
